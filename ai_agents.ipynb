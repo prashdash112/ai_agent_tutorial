{
 "cells": [
  {
   "cell_type": "markdown",
   "metadata": {},
   "source": [
    "### AI agents are the programs where the LLMs control the workflow.\n",
    "\n",
    "#### AI Agent: \n",
    "#### → Goal-oriented reasoning \n",
    "#### → Decides its own next steps \n",
    "#### → Adapts to unexpected situations \n",
    "#### → Actually thinks through problems"
   ]
  },
  {
   "cell_type": "code",
   "execution_count": null,
   "metadata": {},
   "outputs": [],
   "source": [
    "from agents import Agent, Runner, guardrail\n",
    "from  dotenv  import load_dotenv\n",
    "import asyncio \n",
    "from IPython.display import display, Markdown\n",
    "from pydantic import BaseModel "
   ]
  },
  {
   "cell_type": "code",
   "execution_count": null,
   "metadata": {},
   "outputs": [
    {
     "data": {
      "text/plain": [
       "True"
      ]
     },
     "execution_count": 2,
     "metadata": {},
     "output_type": "execute_result"
    }
   ],
   "source": [
    "# loading the env variable i.e openai_api_key\n",
    "# keep env var name saved as OPENAI_API_KEY\n",
    "\n",
    "load_dotenv(override=True)"
   ]
  },
  {
   "cell_type": "code",
   "execution_count": null,
   "metadata": {},
   "outputs": [],
   "source": [
    "# Building our first agent - A finance tutor\n",
    "\n",
    "finance_tutor = Agent(\n",
    "    name=\"Finance tutor\",\n",
    "    instructions='''You are a finance tutor. Your job is to tackle all finance related questions. \n",
    "    If user asks, anything unrealted to finance, kindly let them know, it's out of your scope.''',\n",
    "    model=\"gpt-4o-mini\",\n",
    ")"
   ]
  },
  {
   "cell_type": "markdown",
   "metadata": {},
   "source": [
    "#### A quck summary of sync vs async\n",
    "\n",
    "Sync (Synchronous)\n",
    "\n",
    "* Tasks run one after another, blocking until each finishes.\n",
    "\n",
    "* If one API call takes 10s, the next starts only after that 10s ends.\n",
    "\n",
    "* Good for simple scripts but bad for scaling concurrent users.\n",
    "\n",
    "Async (Asynchronous)\n",
    "\n",
    "* Tasks run concurrently, overlapping wait times (I/O, API calls, Disk operations).\n",
    "\n",
    "* 100 calls that each take 10s can all finish in ~10s instead of ~1,000s.\n",
    "\n",
    "* Used in AI agents to handle many API calls, tools, and user requests at once without blocking the agent’s reasoning loop.\n",
    "\n",
    "In OpenAI Agents SDK, async is crucial because agents often:\n",
    "\n",
    "* Call the OpenAI API multiple times per step,\n",
    "\n",
    "* Invoke external tools/APIs,\n",
    "\n",
    "* And need to serve multiple users concurrently — async keeps everything responsive."
   ]
  },
  {
   "cell_type": "code",
   "execution_count": 19,
   "metadata": {},
   "outputs": [
    {
     "name": "stdout",
     "output_type": "stream",
     "text": [
      "Here are some insightful trends in finance:\n",
      "\n",
      "1. **Digital Transformation**: The shift towards digital platforms for banking, investing, and trading continues to grow, with fintech companies leveraging technology to offer innovative solutions.\n",
      "\n",
      "2. **Sustainable Investing**: There is increasing interest in Environmental, Social, and Governance (ESG) factors, with more investors seeking to align their investments with their values and focusing on sustainable companies.\n",
      "\n",
      "3. **Decentralized Finance (DeFi)**: The rise of blockchain technology has led to an increase in decentralized finance platforms, allowing users to access financial services without traditional intermediaries.\n",
      "\n",
      "4. **Artificial Intelligence and Machine Learning**: Financial institutions are increasingly employing AI and ML for risk assessment, fraud detection, personalized banking, and trading strategies.\n",
      "\n",
      "5. **Regulatory Changes**: With growing scrutiny on financial practices, regulatory frameworks are evolving, impacting compliance, transparency, and consumer protection.\n",
      "\n",
      "6. **Remote Work and Virtual Services**: The pandemic has accelerated the adoption of remote work in finance, with many services now offered virtually, changing the client-service provider interactions.\n",
      "\n",
      "7. **Cryptocurrency Adoption**: More businesses and institutions are accepting cryptocurrencies, and central banks are exploring Central Bank Digital Currencies (CBDCs) as a response to the changing landscape.\n",
      "\n",
      "8. **Robo-Advisors Growth**: Automated investment platforms are gaining popularity, especially among younger investors who prefer low-cost, hands-off investment strategies.\n",
      "\n",
      "9. **Data Analytics**: The use of big data analytics is becoming commonplace, driving decision-making in investment strategies and customer engagement.\n",
      "\n",
      "10. **Focus on Diversity and Inclusion**: There’s a growing emphasis on diversity, equity, and inclusion within financial institutions and investment practices, aiming to create a more balanced representation in the industry.\n",
      "\n",
      "These trends reflect the evolving landscape of finance, driven by technology, social responsibility, and changing consumer behaviors.\n"
     ]
    }
   ],
   "source": [
    "query = \"What are some insightful trends in finance?\" \n",
    "results = await asyncio.gather(Runner.run(finance_tutor, input=query)) \n",
    "outputs = [result.final_output for result in results]\n",
    "print(outputs[0])"
   ]
  },
  {
   "cell_type": "code",
   "execution_count": null,
   "metadata": {},
   "outputs": [
    {
     "data": {
      "text/markdown": [
       "Here are some insightful trends in finance:\n",
       "\n",
       "1. **Digital Transformation**: The shift towards digital platforms for banking, investing, and trading continues to grow, with fintech companies leveraging technology to offer innovative solutions.\n",
       "\n",
       "2. **Sustainable Investing**: There is increasing interest in Environmental, Social, and Governance (ESG) factors, with more investors seeking to align their investments with their values and focusing on sustainable companies.\n",
       "\n",
       "3. **Decentralized Finance (DeFi)**: The rise of blockchain technology has led to an increase in decentralized finance platforms, allowing users to access financial services without traditional intermediaries.\n",
       "\n",
       "4. **Artificial Intelligence and Machine Learning**: Financial institutions are increasingly employing AI and ML for risk assessment, fraud detection, personalized banking, and trading strategies.\n",
       "\n",
       "5. **Regulatory Changes**: With growing scrutiny on financial practices, regulatory frameworks are evolving, impacting compliance, transparency, and consumer protection.\n",
       "\n",
       "6. **Remote Work and Virtual Services**: The pandemic has accelerated the adoption of remote work in finance, with many services now offered virtually, changing the client-service provider interactions.\n",
       "\n",
       "7. **Cryptocurrency Adoption**: More businesses and institutions are accepting cryptocurrencies, and central banks are exploring Central Bank Digital Currencies (CBDCs) as a response to the changing landscape.\n",
       "\n",
       "8. **Robo-Advisors Growth**: Automated investment platforms are gaining popularity, especially among younger investors who prefer low-cost, hands-off investment strategies.\n",
       "\n",
       "9. **Data Analytics**: The use of big data analytics is becoming commonplace, driving decision-making in investment strategies and customer engagement.\n",
       "\n",
       "10. **Focus on Diversity and Inclusion**: There’s a growing emphasis on diversity, equity, and inclusion within financial institutions and investment practices, aiming to create a more balanced representation in the industry.\n",
       "\n",
       "These trends reflect the evolving landscape of finance, driven by technology, social responsibility, and changing consumer behaviors."
      ],
      "text/plain": [
       "<IPython.core.display.Markdown object>"
      ]
     },
     "metadata": {},
     "output_type": "display_data"
    }
   ],
   "source": [
    "# Display the output as rendered markdown in the notebook\n",
    "display(Markdown(outputs[0]))"
   ]
  },
  {
   "cell_type": "markdown",
   "metadata": {},
   "source": [
    "### Multi agent architectures by role\n",
    "\n",
    "When you have multiple agents working together, their roles differ:\n",
    "\n",
    "**Manager (Coordinator / Orchestrator Agent)**\n",
    "\n",
    "Supervises other agents, delegates tasks, monitors progress.\n",
    "\n",
    "Example: A \"Project Manager Agent\" that breaks down a research problem into subtasks and assigns them to worker agents.\n",
    "\n",
    "**Worker (Executor Agent / Specialist Agent)**\n",
    "\n",
    "Focused on a single domain or task, usually follows instructions from a manager or user.\n",
    "\n",
    "Example: A \"Python Coder Agent\" that only writes and executes code.\n",
    "\n",
    "**Peer-to-Peer Agents**\n",
    "\n",
    "No hierarchy, agents collaborate as equals, share knowledge, and negotiate outcomes.\n",
    "\n",
    "Example: A group of research bots discussing different scientific papers and converging on insights.\n",
    "\n",
    "**Broker / Mediator Agent**\n",
    "\n",
    "Acts as an interface between multiple agents or between agents and external systems (APIs, databases).\n",
    "\n",
    "Example: An API-bridge agent that translates user requests into calls to other services.\n",
    "\n",
    "**Memory / Knowledge Agents**\n",
    "\n",
    "Dedicated to storing, retrieving, and updating long-term memory or contextual knowledge.\n",
    "\n",
    "Example: A \"Knowledge Hub Agent\" that maintains embeddings and surfaces relevant context to other agents.\n",
    "\n",
    "\n",
    "### By Behavior / Function\n",
    "\n",
    "Based on how the agent interacts with its environment:\n",
    "\n",
    "**Reactive Agents**\n",
    "\n",
    "Act directly based on stimuli, without planning.\n",
    "\n",
    "Example: A stock-trading bot reacting instantly to market signals.\n",
    "\n",
    "**Deliberative / Planning Agents**\n",
    "\n",
    "Use reasoning, plan ahead, consider multiple outcomes before acting.\n",
    "\n",
    "Example: An AI travel planner that compares multiple routes before deciding.\n",
    "\n",
    "**Learning Agents**\n",
    "\n",
    "Improve with time using feedback, reinforcement learning, or fine-tuning.\n",
    "\n",
    "Example: A game-playing AI that gets better by self-play.\n",
    "\n",
    "**Conversational Agents**\n",
    "\n",
    "Focused on natural language interactions (chatbots, copilots)."
   ]
  },
  {
   "cell_type": "markdown",
   "metadata": {},
   "source": [
    "######################################################"
   ]
  },
  {
   "cell_type": "markdown",
   "metadata": {},
   "source": [
    "### Multi step agent with handoffs \n",
    "\n",
    "A manager/orchestrating agent that uses 2 other agents to handoff tasks. "
   ]
  },
  {
   "cell_type": "code",
   "execution_count": 42,
   "metadata": {},
   "outputs": [],
   "source": [
    "history_tutor_agent = Agent(\n",
    "    name=\"History Tutor\",\n",
    "    handoff_description=\"Specialist agent for historical questions\",\n",
    "    instructions=\"You provide assistance with historical queries. Explain important events and context clearly.\",\n",
    ")\n",
    "\n",
    "math_tutor_agent = Agent(\n",
    "    name=\"Math Tutor\",\n",
    "    handoff_description=\"Specialist agent for math questions\",\n",
    "    instructions=\"You provide help with math problems. Explain your reasoning at each step and include examples\",\n",
    ")\n",
    "\n",
    "triage_agent = Agent(\n",
    "    name=\"Triage Agent\",\n",
    "    instructions=\"You determine which agent to use based on the user's homework question\",\n",
    "    handoffs=[history_tutor_agent, math_tutor_agent]\n",
    ")\n"
   ]
  },
  {
   "cell_type": "code",
   "execution_count": 46,
   "metadata": {},
   "outputs": [
    {
     "data": {
      "text/markdown": [
       "Nikola Tesla was a Serbian-American inventor, electrical engineer, mechanical engineer, and futurist, best known for his contributions to the development of alternating current (AC) electricity systems.\n",
       "\n",
       "**Key facts about Nikola Tesla:**\n",
       "- **Birth:** July 10, 1856, in Smiljan, Austrian Empire (now Croatia)\n",
       "- **Death:** January 7, 1943, in New York City\n",
       "\n",
       "**Major Contributions:**\n",
       "- Developed the AC (alternating current) system for electric power transmission, which is the standard used today.\n",
       "- Invented the Tesla coil, a high-voltage transformer used in radio technology and experiments.\n",
       "- Contributed to the development of radio, X-rays, radar, and wireless transmission of energy.\n",
       "- Held over 300 patents for his inventions and designs.\n",
       "\n",
       "**Other Notes:**\n",
       "- Tesla worked for a time with Thomas Edison but later became a rival, mainly because Edison supported direct current (DC) while Tesla advocated for AC.\n",
       "- He was known for his visionary ideas, some of which were ahead of his time and were not practical in his day.\n",
       "- Tesla died relatively poor and alone, but today he is celebrated as one of the great inventors and minds in science and engineering.\n",
       "\n",
       "If you want to know more about a specific invention or part of Tesla's life, let me know!"
      ],
      "text/plain": [
       "<IPython.core.display.Markdown object>"
      ]
     },
     "metadata": {},
     "output_type": "display_data"
    }
   ],
   "source": [
    "\n",
    "result_history  = await asyncio.gather(Runner.run(triage_agent, input=\"Who was nicola tesla\"))\n",
    "result_history = [result.final_output for result in result_history]\n",
    "display(Markdown(result_history[0]))"
   ]
  },
  {
   "cell_type": "markdown",
   "metadata": {},
   "source": [
    "### Guardrails \n",
    "\n",
    "In AI agents, guardrails are rules, constraints, or validations that ensure the agent’s outputs or behaviors stay within safe, correct, and expected boundaries.\n",
    "\n",
    "Think of them like:\n",
    "\n",
    "* A seatbelt for LLM outputs (safety).\n",
    "\n",
    "* A linter/validator for structured responses (correctness).\n",
    "\n",
    "* A policy filter for compliance (boundaries).\n",
    "\n",
    "#### Guardrails do things like:\n",
    "\n",
    "* Prevent hallucinations or harmful instructions.\n",
    "\n",
    "* Ensure the model outputs valid JSON / schema-compliant data.\n",
    "\n",
    "* Restrict answers to a certain domain or vocabulary.\n",
    "\n",
    "* Stop the model from calling dangerous tools with invalid parameters.\n",
    "\n",
    "#### How do we enforce Guardrails?\n",
    "\n",
    "**Schema validation (most common):**\n",
    "\n",
    "Use Pydantic or JSON schema to ensure outputs are correctly formatted.\n",
    "\n",
    "**Rule-based filters:**\n",
    "\n",
    "Block toxic, unsafe, or disallowed outputs (keywords, regex).\n",
    "\n",
    "**Content policies:**\n",
    "\n",
    "Example: \"Never give medical diagnosis, only general advice.\"\n",
    "\n",
    "**Control flows / workflows:**\n",
    "\n",
    "Prevent the agent from looping infinitely or making irrelevant tool calls."
   ]
  },
  {
   "cell_type": "markdown",
   "metadata": {},
   "source": [
    "### Pydantic models - Used for type hinting and data validation \n",
    "* Super important to validate outputs and inputs in a multi-agent network \n",
    "\n",
    "############## Example 1###############"
   ]
  },
  {
   "cell_type": "code",
   "execution_count": 50,
   "metadata": {},
   "outputs": [
    {
     "name": "stdout",
     "output_type": "stream",
     "text": [
      "location='Delhi' temperature_c=32.5 condition='Sunny'\n",
      "❌ Guardrail triggered: 1 validation error for WeatherReport\n",
      "temperature_c\n",
      "  Input should be less than or equal to 100 [type=less_than_equal, input_value=300, input_type=int]\n",
      "    For further information visit https://errors.pydantic.dev/2.11/v/less_than_equal\n"
     ]
    }
   ],
   "source": [
    "# snippet to explain pydantic models for data validation \n",
    "\n",
    "from pydantic import BaseModel, Field, ValidationError\n",
    "\n",
    "class WeatherReport(BaseModel):\n",
    "    location: str = Field(..., description=\"City name\")\n",
    "    temperature_c: float = Field(..., ge=-100, le=100, description=\"Temperature in Celsius\")\n",
    "    condition: str = Field(..., description=\"Weather condition, e.g. 'sunny', 'rainy'\")\n",
    "\n",
    "# Example: valid output\n",
    "data = {\"location\": \"Delhi\", \"temperature_c\": 32.5, \"condition\": \"Sunny\"}\n",
    "report = WeatherReport(**data)\n",
    "print(report)\n",
    "\n",
    "# Example: invalid output (too hot!)\n",
    "try:\n",
    "    bad_data = {\"location\": \"Delhi\", \"temperature_c\": 300, \"condition\": \"Sunny\"}\n",
    "    WeatherReport(**bad_data)\n",
    "except ValidationError as e:\n",
    "    print(\"❌ Guardrail triggered:\", e)\n"
   ]
  },
  {
   "cell_type": "markdown",
   "metadata": {},
   "source": [
    "############## Example 2 ############"
   ]
  },
  {
   "cell_type": "code",
   "execution_count": null,
   "metadata": {},
   "outputs": [
    {
     "name": "stdout",
     "output_type": "stream",
     "text": [
      "Validated data: {'stock_price': 500.23, 'year_period': 2023}\n"
     ]
    }
   ],
   "source": [
    "\n",
    "class report_validator(BaseModel):\n",
    "    stock_price : float = Field(le=5000, ge=500, description=\"Stock price value guardrails\")\n",
    "    year_period : int = Field(le=2024, ge=2019, description=\"Year period as a datetime object between 2019 and 2024\")\n",
    "\n",
    "    \n",
    "try:\n",
    "    data = {\"stock_price\": 500.23,\"year_period\": 2023 }\n",
    "    \n",
    "    report_validator(**data)\n",
    "    print(\"Validated data:\", data)\n",
    "except ValidationError as e: \n",
    "    print(\"ValidationError\", e)   "
   ]
  },
  {
   "cell_type": "markdown",
   "metadata": {},
   "source": [
    "############# Example 3 ####################"
   ]
  },
  {
   "cell_type": "code",
   "execution_count": 109,
   "metadata": {},
   "outputs": [],
   "source": [
    "from pydantic import BaseModel, field_validator, ValidationError\n",
    "import math\n",
    "\n",
    "class pulse(BaseModel):\n",
    "    pulse_type: bool\n",
    "    pulse_value: int\n",
    "\n",
    "    # Custom validation logic \n",
    "    @field_validator(\"pulse_value\")\n",
    "    def validate_pulse_value(cls, val):\n",
    "        # Check if sqrt(val) is even\n",
    "        if math.sqrt(val) % 2 == 0:\n",
    "            print(\"Even signal -verified\")\n",
    "            return val\n",
    "        # If not, raise a ValueError so Pydantic triggers a validation error\n",
    "        raise ValueError(f\"pulse_value {val} is invalid: sqrt({val}) % 2 != 0\")\n"
   ]
  },
  {
   "cell_type": "code",
   "execution_count": 110,
   "metadata": {},
   "outputs": [
    {
     "name": "stdout",
     "output_type": "stream",
     "text": [
      "Even signal -verified\n",
      "pulse_type=False pulse_value=144\n"
     ]
    }
   ],
   "source": [
    "# Prepare test data for the pulse model\n",
    "try: \n",
    "    data = {\n",
    "    \"pulse_type\": False, \n",
    "    \"pulse_value\": 144\n",
    "    }\n",
    "    print(pulse(**data))\n",
    "\n",
    "except ValidationError as e: \n",
    "    print(e)\n"
   ]
  },
  {
   "cell_type": "markdown",
   "metadata": {},
   "source": [
    "#### Pydantci JSON serialization - ability to convert pydantic models to JSON "
   ]
  },
  {
   "cell_type": "code",
   "execution_count": null,
   "metadata": {},
   "outputs": [
    {
     "name": "stdout",
     "output_type": "stream",
     "text": [
      "<class 'pydantic._internal._model_construction.ModelMetaclass'>\n",
      "Even signal -verified\n",
      "{\"pulse_type\":true,\"pulse_value\":144}\n",
      "Even signal -verified\n",
      "{\"pulse_type\":true,\"pulse_value\":144}\n"
     ]
    }
   ],
   "source": [
    "# pydantic model\n",
    "print(type(pulse)) \n",
    "\n",
    "# JSON serialization \n",
    "pulse1 = pulse(pulse_type=True, pulse_value=144)\n",
    "print(pulse1.model_dump_json())\n",
    "\n",
    "# For example:\n",
    "p = pulse(pulse_type=True, pulse_value=144)\n",
    "print(p.model_dump_json())\n"
   ]
  },
  {
   "cell_type": "code",
   "execution_count": 119,
   "metadata": {},
   "outputs": [
    {
     "name": "stdout",
     "output_type": "stream",
     "text": [
      "Even signal -verified\n"
     ]
    },
    {
     "data": {
      "text/plain": [
       "{'pulse_type': True, 'pulse_value': 144}"
      ]
     },
     "execution_count": 119,
     "metadata": {},
     "output_type": "execute_result"
    }
   ],
   "source": [
    "pulse(pulse_type=True, pulse_value=144).model_dump()"
   ]
  },
  {
   "cell_type": "markdown",
   "metadata": {},
   "source": [
    "#############################################"
   ]
  },
  {
   "cell_type": "code",
   "execution_count": 123,
   "metadata": {},
   "outputs": [
    {
     "name": "stdout",
     "output_type": "stream",
     "text": [
      "Context: None\n",
      "The first president of the United States was George Washington. He served as president from 1789 to 1797 and is widely recognized as one of the Founding Fathers of the country. Washington was unanimously elected as the nation’s first president after leading the American colonies to victory over Great Britain in the Revolutionary War and presiding over the Constitutional Convention in 1787. His leadership helped shape the office of the presidency and set many important precedents for future presidents.\n",
      "Context: None\n",
      "Guardrail blocked this input: Guardrail InputGuardrail triggered tripwire\n"
     ]
    }
   ],
   "source": [
    "from agents import Agent, InputGuardrail, GuardrailFunctionOutput, Runner\n",
    "from agents.exceptions import InputGuardrailTripwireTriggered\n",
    "from pydantic import BaseModel\n",
    "import asyncio\n",
    "\n",
    "class HomeworkOutput(BaseModel):\n",
    "    is_homework: bool\n",
    "    reasoning: str\n",
    "\n",
    "# content flow guardrail agent \n",
    "# here the output type is the pydantic model i.e we expect output to be in pydantic model's shape. \n",
    "guardrail_agent = Agent(\n",
    "    name=\"Guardrail check\",\n",
    "    instructions=\"Check if the user is asking about homework.\",\n",
    "    output_type=HomeworkOutput,\n",
    ") \n",
    "\n",
    "math_tutor_agent = Agent(\n",
    "    name=\"Math Tutor\",\n",
    "    handoff_description=\"Specialist agent for math questions\",\n",
    "    instructions=\"You provide help with math problems. Explain your reasoning at each step and include examples\",\n",
    ")\n",
    "\n",
    "history_tutor_agent = Agent(\n",
    "    name=\"History Tutor\",\n",
    "    handoff_description=\"Specialist agent for historical questions\",\n",
    "    instructions=\"You provide assistance with historical queries. Explain important events and context clearly.\",\n",
    ")\n",
    "\n",
    "\n",
    "async def homework_guardrail(ctx, agent, input_data):\n",
    "    result = await Runner.run(guardrail_agent, input_data, context=ctx.context)\n",
    "    print(\"Context:\",ctx.context)\n",
    "    final_output = result.final_output_as(HomeworkOutput)\n",
    "    return GuardrailFunctionOutput(\n",
    "        output_info=final_output,\n",
    "        tripwire_triggered=not final_output.is_homework,\n",
    "    )\n",
    "\n",
    "triage_agent = Agent( \n",
    "    name=\"Triage Agent\",\n",
    "    instructions=\"You determine which agent to use based on the user's homework question\",\n",
    "    handoffs=[history_tutor_agent, math_tutor_agent],\n",
    "    input_guardrails=[\n",
    "        InputGuardrail(guardrail_function=homework_guardrail),\n",
    "    ],\n",
    ")\n",
    "\n",
    "async def main():\n",
    "    # Example 1: History question\n",
    "    try:\n",
    "        result = await Runner.run(triage_agent, \"who was the first president of the united states?\")\n",
    "        print(result.final_output)\n",
    "    except InputGuardrailTripwireTriggered as e:\n",
    "        print(\"Guardrail blocked this input:\", e)\n",
    "\n",
    "    # Example 2: General/philosophical question\n",
    "    try:\n",
    "        result = await Runner.run(triage_agent, \"What is the meaning of life?\")\n",
    "        print(result.final_output)\n",
    "    except InputGuardrailTripwireTriggered as e:\n",
    "        print(\"Guardrail blocked this input:\", e)\n",
    "\n",
    "# In Jupyter or other environments with a running event loop, use nest_asyncio or asyncio.create_task\n",
    "import sys\n",
    "\n",
    "def run_async(coro):\n",
    "    try:\n",
    "        loop = asyncio.get_running_loop()\n",
    "    except RuntimeError:\n",
    "        loop = None\n",
    "\n",
    "    if loop and loop.is_running():\n",
    "        # If we're in a running event loop (e.g., Jupyter), use create_task and gather\n",
    "        import nest_asyncio\n",
    "        nest_asyncio.apply()\n",
    "        task = asyncio.ensure_future(coro)\n",
    "        return task\n",
    "    else:\n",
    "        return asyncio.run(coro)\n",
    "\n",
    "if __name__ == \"__main__\":\n",
    "    run_async(main())"
   ]
  },
  {
   "cell_type": "code",
   "execution_count": null,
   "metadata": {},
   "outputs": [],
   "source": []
  }
 ],
 "metadata": {
  "kernelspec": {
   "display_name": ".venv",
   "language": "python",
   "name": "python3"
  },
  "language_info": {
   "codemirror_mode": {
    "name": "ipython",
    "version": 3
   },
   "file_extension": ".py",
   "mimetype": "text/x-python",
   "name": "python",
   "nbconvert_exporter": "python",
   "pygments_lexer": "ipython3",
   "version": "3.12.11"
  }
 },
 "nbformat": 4,
 "nbformat_minor": 2
}
