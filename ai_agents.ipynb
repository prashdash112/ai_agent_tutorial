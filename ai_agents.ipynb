{
 "cells": [
  {
   "cell_type": "markdown",
   "metadata": {},
   "source": [
    "### AI agents are the programs where the LLMs control the workflow.\n",
    "\n",
    "#### AI Agent: \n",
    "#### → Goal-oriented reasoning \n",
    "#### → Decides its own next steps \n",
    "#### → Adapts to unexpected situations \n",
    "#### → Actually thinks through problems"
   ]
  },
  {
   "cell_type": "code",
   "execution_count": null,
   "metadata": {},
   "outputs": [],
   "source": [
    "from agents import Agent, Runner, trace\n",
    "from  dotenv  import load_dotenv\n",
    "import asyncio \n",
    "from IPython.display import display, Markdown\n"
   ]
  },
  {
   "cell_type": "code",
   "execution_count": null,
   "metadata": {},
   "outputs": [
    {
     "data": {
      "text/plain": [
       "True"
      ]
     },
     "execution_count": 2,
     "metadata": {},
     "output_type": "execute_result"
    }
   ],
   "source": [
    "# loading the env variable i.e openai_api_key\n",
    "# keep env var name saved as OPENAI_API_KEY\n",
    "\n",
    "load_dotenv(override=True)"
   ]
  },
  {
   "cell_type": "code",
   "execution_count": null,
   "metadata": {},
   "outputs": [],
   "source": [
    "# Building our first agent - A finance tutor\n",
    "\n",
    "finance_tutor = Agent(\n",
    "    name=\"Finance tutor\",\n",
    "    instructions='''You are a finance tutor. Your job is to tackle all finance related questions. \n",
    "    If user asks, anything unrealted to finance, kindly let them know, it's out of your scope.''',\n",
    "    model=\"gpt-4o-mini\",\n",
    ")"
   ]
  },
  {
   "cell_type": "markdown",
   "metadata": {},
   "source": [
    "#### A quck summary of sync vs async\n",
    "\n",
    "Sync (Synchronous)\n",
    "\n",
    "* Tasks run one after another, blocking until each finishes.\n",
    "\n",
    "* If one API call takes 10s, the next starts only after that 10s ends.\n",
    "\n",
    "* Good for simple scripts but bad for scaling concurrent users.\n",
    "\n",
    "Async (Asynchronous)\n",
    "\n",
    "* Tasks run concurrently, overlapping wait times (I/O, API calls, Disk operations).\n",
    "\n",
    "* 100 calls that each take 10s can all finish in ~10s instead of ~1,000s.\n",
    "\n",
    "* Used in AI agents to handle many API calls, tools, and user requests at once without blocking the agent’s reasoning loop.\n",
    "\n",
    "In OpenAI Agents SDK, async is crucial because agents often:\n",
    "\n",
    "* Call the OpenAI API multiple times per step,\n",
    "\n",
    "* Invoke external tools/APIs,\n",
    "\n",
    "* And need to serve multiple users concurrently — async keeps everything responsive."
   ]
  },
  {
   "cell_type": "code",
   "execution_count": 19,
   "metadata": {},
   "outputs": [
    {
     "name": "stdout",
     "output_type": "stream",
     "text": [
      "Here are some insightful trends in finance:\n",
      "\n",
      "1. **Digital Transformation**: The shift towards digital platforms for banking, investing, and trading continues to grow, with fintech companies leveraging technology to offer innovative solutions.\n",
      "\n",
      "2. **Sustainable Investing**: There is increasing interest in Environmental, Social, and Governance (ESG) factors, with more investors seeking to align their investments with their values and focusing on sustainable companies.\n",
      "\n",
      "3. **Decentralized Finance (DeFi)**: The rise of blockchain technology has led to an increase in decentralized finance platforms, allowing users to access financial services without traditional intermediaries.\n",
      "\n",
      "4. **Artificial Intelligence and Machine Learning**: Financial institutions are increasingly employing AI and ML for risk assessment, fraud detection, personalized banking, and trading strategies.\n",
      "\n",
      "5. **Regulatory Changes**: With growing scrutiny on financial practices, regulatory frameworks are evolving, impacting compliance, transparency, and consumer protection.\n",
      "\n",
      "6. **Remote Work and Virtual Services**: The pandemic has accelerated the adoption of remote work in finance, with many services now offered virtually, changing the client-service provider interactions.\n",
      "\n",
      "7. **Cryptocurrency Adoption**: More businesses and institutions are accepting cryptocurrencies, and central banks are exploring Central Bank Digital Currencies (CBDCs) as a response to the changing landscape.\n",
      "\n",
      "8. **Robo-Advisors Growth**: Automated investment platforms are gaining popularity, especially among younger investors who prefer low-cost, hands-off investment strategies.\n",
      "\n",
      "9. **Data Analytics**: The use of big data analytics is becoming commonplace, driving decision-making in investment strategies and customer engagement.\n",
      "\n",
      "10. **Focus on Diversity and Inclusion**: There’s a growing emphasis on diversity, equity, and inclusion within financial institutions and investment practices, aiming to create a more balanced representation in the industry.\n",
      "\n",
      "These trends reflect the evolving landscape of finance, driven by technology, social responsibility, and changing consumer behaviors.\n"
     ]
    }
   ],
   "source": [
    "query = \"What are some insightful trends in finance?\" \n",
    "results = await asyncio.gather(Runner.run(finance_tutor, input=query)) \n",
    "outputs = [result.final_output for result in results]\n",
    "print(outputs[0])"
   ]
  },
  {
   "cell_type": "code",
   "execution_count": null,
   "metadata": {},
   "outputs": [
    {
     "data": {
      "text/markdown": [
       "Here are some insightful trends in finance:\n",
       "\n",
       "1. **Digital Transformation**: The shift towards digital platforms for banking, investing, and trading continues to grow, with fintech companies leveraging technology to offer innovative solutions.\n",
       "\n",
       "2. **Sustainable Investing**: There is increasing interest in Environmental, Social, and Governance (ESG) factors, with more investors seeking to align their investments with their values and focusing on sustainable companies.\n",
       "\n",
       "3. **Decentralized Finance (DeFi)**: The rise of blockchain technology has led to an increase in decentralized finance platforms, allowing users to access financial services without traditional intermediaries.\n",
       "\n",
       "4. **Artificial Intelligence and Machine Learning**: Financial institutions are increasingly employing AI and ML for risk assessment, fraud detection, personalized banking, and trading strategies.\n",
       "\n",
       "5. **Regulatory Changes**: With growing scrutiny on financial practices, regulatory frameworks are evolving, impacting compliance, transparency, and consumer protection.\n",
       "\n",
       "6. **Remote Work and Virtual Services**: The pandemic has accelerated the adoption of remote work in finance, with many services now offered virtually, changing the client-service provider interactions.\n",
       "\n",
       "7. **Cryptocurrency Adoption**: More businesses and institutions are accepting cryptocurrencies, and central banks are exploring Central Bank Digital Currencies (CBDCs) as a response to the changing landscape.\n",
       "\n",
       "8. **Robo-Advisors Growth**: Automated investment platforms are gaining popularity, especially among younger investors who prefer low-cost, hands-off investment strategies.\n",
       "\n",
       "9. **Data Analytics**: The use of big data analytics is becoming commonplace, driving decision-making in investment strategies and customer engagement.\n",
       "\n",
       "10. **Focus on Diversity and Inclusion**: There’s a growing emphasis on diversity, equity, and inclusion within financial institutions and investment practices, aiming to create a more balanced representation in the industry.\n",
       "\n",
       "These trends reflect the evolving landscape of finance, driven by technology, social responsibility, and changing consumer behaviors."
      ],
      "text/plain": [
       "<IPython.core.display.Markdown object>"
      ]
     },
     "metadata": {},
     "output_type": "display_data"
    }
   ],
   "source": [
    "# Display the output as rendered markdown in the notebook\n",
    "display(Markdown(outputs[0]))"
   ]
  },
  {
   "cell_type": "code",
   "execution_count": null,
   "metadata": {},
   "outputs": [],
   "source": []
  },
  {
   "cell_type": "code",
   "execution_count": null,
   "metadata": {},
   "outputs": [],
   "source": []
  }
 ],
 "metadata": {
  "kernelspec": {
   "display_name": ".venv",
   "language": "python",
   "name": "python3"
  },
  "language_info": {
   "codemirror_mode": {
    "name": "ipython",
    "version": 3
   },
   "file_extension": ".py",
   "mimetype": "text/x-python",
   "name": "python",
   "nbconvert_exporter": "python",
   "pygments_lexer": "ipython3",
   "version": "3.12.11"
  }
 },
 "nbformat": 4,
 "nbformat_minor": 2
}
